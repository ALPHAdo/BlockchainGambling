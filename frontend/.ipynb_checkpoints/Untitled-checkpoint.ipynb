{
 "cells": [
  {
   "cell_type": "code",
   "execution_count": 3,
   "metadata": {
    "collapsed": false
   },
   "outputs": [],
   "source": [
    "#Example: finding association rules in congressional voting records\n",
    "#1. Collect: Use the votesmart module to access voting records.\n",
    "#2. Prepare: Write a function to process votes into a series of transaction records.\n",
    "#3. Analyze: We’ll look at the prepared data in the Python shell to make sure it’s\n",
    "#correct.\n",
    "#4. Train: We’ll use the apriori() and generateRules() functions written earlier\n",
    "#in this chapter to find the interesting information in the voting records.\n",
    "#5. Test: Doesn’t apply.\n",
    "#6. Use: For entertainment purposes, but you could use the results for a political\n",
    "#\n",
    "#campaign or to forecast how elected officials will vote."
   ]
  },
  {
   "cell_type": "code",
   "execution_count": null,
   "metadata": {
    "collapsed": true
   },
   "outputs": [],
   "source": []
  }
 ],
 "metadata": {
  "kernelspec": {
   "display_name": "Python 2",
   "language": "python",
   "name": "python2"
  },
  "language_info": {
   "codemirror_mode": {
    "name": "ipython",
    "version": 2
   },
   "file_extension": ".py",
   "mimetype": "text/x-python",
   "name": "python",
   "nbconvert_exporter": "python",
   "pygments_lexer": "ipython2",
   "version": "2.7.10"
  }
 },
 "nbformat": 4,
 "nbformat_minor": 0
}
